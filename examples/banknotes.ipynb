{
 "cells": [
  {
   "cell_type": "code",
   "execution_count": null,
   "metadata": {},
   "outputs": [],
   "source": [
    "import logging\n",
    "import sys\n",
    "import os\n",
    "import pandas as pd\n",
    "import numpy as np\n",
    "\n",
    "# to include the SR code without installing in the environment\n",
    "sys.path.append('../')\n",
    "\n",
    "from symbolic_regression.SymbolicRegressor import SymbolicRegressor"
   ]
  },
  {
   "cell_type": "markdown",
   "metadata": {},
   "source": [
    "# The operations\n",
    "\n",
    "Here we define the list of allowed operations. In this project we implemented most of the arithmetic operations we expect to need in a normal use. Please have a look at the file in `symbolic_regression/operators.py` to see how we define them and to define your own operators."
   ]
  },
  {
   "cell_type": "code",
   "execution_count": null,
   "metadata": {},
   "outputs": [],
   "source": [
    "from symbolic_regression.operators import *\n",
    "\n",
    "operations = [\n",
    "    OPERATOR_ADD,\n",
    "    OPERATOR_SUB,\n",
    "    OPERATOR_MUL,\n",
    "    OPERATOR_DIV,\n",
    "    # OPERATOR_ABS,\n",
    "    # OPERATOR_MOD,\n",
    "    # OPERATOR_NEG,\n",
    "    # OPERATOR_INV,\n",
    "    OPERATOR_LOG,\n",
    "    OPERATOR_EXP,\n",
    "    OPERATOR_POW,\n",
    "    OPERATOR_SQRT,\n",
    "    # OPERATOR_MAX,\n",
    "    # OPERATOR_MIN\n",
    "]\n"
   ]
  },
  {
   "cell_type": "markdown",
   "metadata": {},
   "source": [
    "# The example dataset: counterfeit banknotes classification\n",
    "\n",
    "This is a very simple binary classification task to predict whether a banknote is counterfeit based on four characteristics. This dataset is publicly available on [Kaggle](https://www.kaggle.com/datasets/ritesaluja/bank-note-authentication-uci-data)"
   ]
  },
  {
   "cell_type": "code",
   "execution_count": null,
   "metadata": {},
   "outputs": [],
   "source": [
    "data = pd.read_csv('./banknotes.csv')\n",
    "\n",
    "data = data.sample(frac=1)  # To shuffle the dataset.\n",
    "\n",
    "data['w'] = np.where(data['y'] == 1, 1./(2*data['y'].mean()),\n",
    "                     1./(2*(1-data['y'].mean())))\n",
    "\n",
    "features = ['x1', 'x2', 'x3', 'x4']\n",
    "target = 'y'\n",
    "weights = 'w'\n",
    "\n",
    "print(f'Dataset {data.shape}')\n"
   ]
  },
  {
   "cell_type": "markdown",
   "metadata": {},
   "source": [
    "Here we define the base range for which to generate the constants in the individuals. Furthermore, we also define how to optimize those constants in order to make them converge to the best value they can have in their expression.\n",
    "\n",
    "We are using ADAM with the following configuration parameters."
   ]
  },
  {
   "cell_type": "code",
   "execution_count": null,
   "metadata": {},
   "outputs": [],
   "source": [
    "const_range = (0, 1)\n",
    "\n",
    "constants_optimization = 'ADAM'\n",
    "constants_optimization_conf = {\n",
    "    'task': 'binary:logistic',  # or 'regression:wmse'\n",
    "    'learning_rate': 1e-4,\n",
    "    'batch_size': 64,\n",
    "    'epochs': 50,\n",
    "    'verbose': 0,\n",
    "    'gradient_clip': False,\n",
    "    'beta_1': 0.9,\n",
    "    'beta_2': 0.999,\n",
    "    'epsilon': 1e-7,\n",
    "    'l1_param': 1e-1,\n",
    "    'l2_param': 0,\n",
    "}\n"
   ]
  },
  {
   "cell_type": "code",
   "execution_count": null,
   "metadata": {},
   "outputs": [],
   "source": [
    "from symbolic_regression.multiobjective.fitness.Classification import BinaryCrossentropy, AUC\n",
    "from symbolic_regression.multiobjective.fitness.Regression import NotConstant\n",
    "\n",
    "fitness_functions = [\n",
    "    BinaryCrossentropy(label='bce', target=target, weights=weights, logistic=True, constants_optimization=constants_optimization,\n",
    "                       constants_optimization_conf=constants_optimization_conf, minimize=True, hypervolume_reference=1.1),\n",
    "    AUC(label='1-auc', target=target, weights=weights,\n",
    "        logistic=True, one_minus=True, minimize=True, hypervolume_reference=1.1),\n",
    "    NotConstant(label='not_constant', epsilon=.01, minimize=True, hypervolume_reference=1.1)\n",
    "]\n",
    "\n",
    "''' Use this to modulate the relative frequency of genetic operations\n",
    "    E.g., crossover is chosen 2 times more frequently than mutation\n",
    "        {\n",
    "            'crossover': 2,\n",
    "            'mutation': 1,\n",
    "            # etc...\n",
    "        }\n",
    "'''\n",
    "genetic_operators_frequency = {\n",
    "    'crossover': 1,\n",
    "    'randomize': 1,\n",
    "    'mutation': 1,\n",
    "    'insert_node': 1,\n",
    "    'delete_node': 1,\n",
    "    'mutate_leaf': 1,\n",
    "    'mutate_operator': 1,\n",
    "    'recalibrate': 1\n",
    "}\n"
   ]
  },
  {
   "cell_type": "markdown",
   "metadata": {},
   "source": [
    "Here we define a population size of 100 individuals, the training process to be 20 generations long and the tournament size for the genetic operations to be 3.\n",
    "\n",
    "Setting the checkpoint file allows us to progressively save the population to recover the training in future training sessions or to share the population with other participants."
   ]
  },
  {
   "cell_type": "code",
   "execution_count": null,
   "metadata": {},
   "outputs": [],
   "source": [
    "POPULATION_SIZE = 300\n",
    "TOURNAMENT_SIZE = 3\n",
    "\n",
    "logging.info(f'Running with POPULATION_SIZE {POPULATION_SIZE}')\n",
    "logging.info(f'Running with TOURNAMENT_SIZE {TOURNAMENT_SIZE}')\n",
    "\n",
    "\n",
    "sr = SymbolicRegressor(\n",
    "    client_name='banknotes',\n",
    "    checkpoint_file='./banknotes_checkpoint.save',\n",
    "    checkpoint_frequency=10,\n",
    "    const_range=const_range,\n",
    "    parsimony=.8,\n",
    "    parsimony_decay=.85,  # Expected depth = parsimony / (1-parsimony_decay)\n",
    "    population_size=POPULATION_SIZE,\n",
    "    tournament_size=TOURNAMENT_SIZE\n",
    ")\n"
   ]
  },
  {
   "cell_type": "code",
   "execution_count": null,
   "metadata": {
    "tags": []
   },
   "outputs": [],
   "source": [
    "GENERATIONS = 100\n",
    "\n",
    "sr.fit(\n",
    "    data=data,\n",
    "    features=features,\n",
    "    operations=operations,\n",
    "    fitness_functions=fitness_functions,\n",
    "    generations_to_train=GENERATIONS,\n",
    "    n_jobs=-1,\n",
    "    stop_at_convergence=False,\n",
    "    verbose=2\n",
    ")\n",
    "\n",
    "print('End')\n"
   ]
  }
 ],
 "metadata": {
  "kernelspec": {
   "display_name": "Python 3.8.10 64-bit",
   "language": "python",
   "name": "python3"
  },
  "language_info": {
   "codemirror_mode": {
    "name": "ipython",
    "version": 3
   },
   "file_extension": ".py",
   "mimetype": "text/x-python",
   "name": "python",
   "nbconvert_exporter": "python",
   "pygments_lexer": "ipython3",
   "version": "3.8.10 (default, Nov 14 2022, 12:59:47) \n[GCC 9.4.0]"
  },
  "vscode": {
   "interpreter": {
    "hash": "31f2aee4e71d21fbe5cf8b01ff0e069b9275f58929596ceb00d14d90e3e16cd6"
   }
  }
 },
 "nbformat": 4,
 "nbformat_minor": 4
}
