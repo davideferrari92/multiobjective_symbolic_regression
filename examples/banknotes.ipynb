{
 "cells": [
  {
   "cell_type": "code",
   "execution_count": 1,
   "metadata": {},
   "outputs": [],
   "source": [
    "import logging\n",
    "import warnings\n",
    "import sys\n",
    "import pandas as pd\n",
    "import numpy as np\n",
    "\n",
    "sys.path.append('../')  # to include the SR code without installing in the environment\n",
    "\n",
    "from symbolic_regression.SymbolicRegressor import SymbolicRegressor"
   ]
  },
  {
   "cell_type": "markdown",
   "metadata": {},
   "source": [
    "# The operations\n",
    "\n",
    "Here we define the list of allowed operations. In this project we implemented most of the arithmetic operations we expect to need in a normal use. Please have a look at the file in `symbolic_regression/operators.py` to see how we define them and to define your own operators."
   ]
  },
  {
   "cell_type": "code",
   "execution_count": 2,
   "metadata": {},
   "outputs": [],
   "source": [
    "from symbolic_regression.operators import *\n",
    "\n",
    "operations = [\n",
    "    OPERATOR_ADD,\n",
    "    OPERATOR_SUB,\n",
    "    OPERATOR_MUL,\n",
    "    OPERATOR_DIV,\n",
    "    # OPERATOR_ABS,\n",
    "    # OPERATOR_MOD,\n",
    "    # OPERATOR_NEG,\n",
    "    # OPERATOR_INV,\n",
    "    OPERATOR_LOG,\n",
    "    OPERATOR_EXP,\n",
    "    OPERATOR_POW,\n",
    "    OPERATOR_SQRT,\n",
    "    OPERATOR_MAX,\n",
    "    OPERATOR_MIN\n",
    "]"
   ]
  },
  {
   "cell_type": "markdown",
   "metadata": {},
   "source": [
    "# The example dataset: counterfeit banknotes classification\n",
    "\n",
    "This is a very simple binary classification task to predict whether a banknote is counterfeit based on four characteristics. This dataset is publicly available at [Kaggle](https://kaggle.com)"
   ]
  },
  {
   "cell_type": "code",
   "execution_count": 3,
   "metadata": {},
   "outputs": [
    {
     "name": "stdout",
     "output_type": "stream",
     "text": [
      "Dataset (1372, 6)\n"
     ]
    }
   ],
   "source": [
    "data = pd.read_csv('./banknotes.csv')\n",
    "\n",
    "data = data.sample(frac=1)\n",
    "\n",
    "data['w'] = np.where(data['y']==1, 1./(2*data['y'].mean()),  1./(2*(1-data['y'].mean())))\n",
    "\n",
    "features = ['x_1', 'x_2', 'x_3', 'x_4']\n",
    "target = 'y'\n",
    "weights = 'w'\n",
    "\n",
    "print(f'Dataset {data.shape}')"
   ]
  },
  {
   "cell_type": "markdown",
   "metadata": {},
   "source": [
    "Here we define the base range for which to generate the constants in the individuals. Furthermore, we also define how to optimize those constants in order to make them converge to the best value they can have in their expression.\n",
    "\n",
    "We are using ADAM with the following configuration parameters."
   ]
  },
  {
   "cell_type": "code",
   "execution_count": 4,
   "metadata": {},
   "outputs": [],
   "source": [
    "const_range = (0, 1)\n",
    "\n",
    "constants_optimization = True\n",
    "constants_optimization_method= 'ADAM'\n",
    "constants_optimization_conf = {\n",
    "    'task':'binary:logistic', #or 'regression:wmse'\n",
    "    'learning_rate': 1e-4,\n",
    "    'batch_size': 64,\n",
    "    'epochs': 50,\n",
    "    'verbose': 0,\n",
    "    'gradient_clip':False,\n",
    "    'beta_1': 0.9,\n",
    "    'beta_2': 0.999,\n",
    "    'epsilon': 1e-7    \n",
    "}"
   ]
  },
  {
   "cell_type": "code",
   "execution_count": 5,
   "metadata": {},
   "outputs": [],
   "source": [
    "''' This implements the error functions to be minimized.\n",
    "The arguments of this function must not change as the code expects them to be\n",
    "as appear here.\n",
    "\n",
    "Use a dict with this structure:\n",
    "    {\n",
    "        <name_of_the_error_function>: {\n",
    "            'func': the actual function to be evaluated,\n",
    "            'threshold': the value below which convergence happens # Optional\n",
    "        }\n",
    "    }\n",
    "'''\n",
    "\n",
    "\n",
    "def multi_obj(program, data):\n",
    "    from symbolic_regression.multiobjective.functions import (\n",
    "        not_constant, ordering_preserving, accuracy_bce, wrrmse, auroc_bce,\n",
    "        ordering, value_range, wmse, complexity, binary_cross_entropy)\n",
    "\n",
    "    ''' Some examples are\n",
    "    \n",
    "    'not_constant': {\n",
    "            'func': not_constant(program=program, data=data, epsilon=.01)\n",
    "        }\n",
    "    'wmse': {\n",
    "            'func': wmse(program=program, data=data, target=target, weights=weights),\n",
    "            'convergence_threshold': 1\n",
    "        },\n",
    "    'bce': {\n",
    "            'func': binary_cross_entropy(\n",
    "                program=program, data=data, target='y', logistic=True,\n",
    "                constants_optimization=constants_optimization,\n",
    "                constants_optimization_method=constants_optimization_method,\n",
    "                constants_optimization_conf=constants_optimization_conf\n",
    "                )\n",
    "        },\n",
    "    'order_preserving_error_1': {\n",
    "        'func': ordering(program=program, data=data, target='y_1', method='error')\n",
    "    },\n",
    "    'order_preserving_error_2': {\n",
    "        'func': ordering(program=program, data=data, target='y_2', method='error')\n",
    "    },\n",
    "    'gmeans': {\n",
    "        'func': gmeans(program=program, data=data, target='y', logistic=True),\n",
    "        'minimize': True\n",
    "    },\n",
    "    'AUC': {\n",
    "        'func': auroc_bce(program=program, data=data, target='y', logistic=True),\n",
    "        'minimize': True\n",
    "    },\n",
    "    '''\n",
    "    return {\n",
    "        'bce': {\n",
    "            'func': binary_cross_entropy(\n",
    "                program=program, data=data, target=target, weights=weights, logistic=True,\n",
    "                constants_optimization=constants_optimization,\n",
    "                constants_optimization_method=constants_optimization_method,\n",
    "                constants_optimization_conf=constants_optimization_conf\n",
    "            )\n",
    "        },\n",
    "        '1-AUC': {\n",
    "            'func': auroc_bce(program=program, data=data, target='y', logistic=True, one_minus= True),\n",
    "            'minimize': True\n",
    "        },\n",
    "        'not_constant': {\n",
    "            'func': not_constant(program=program, data=data, epsilon=.01),\n",
    "            'minimize': True\n",
    "        }\n",
    "    }\n",
    "\n",
    "\n",
    "''' Use this to modulate the relative frequency of genetic operations\n",
    "    E.g., crossover is chosen 2 times more frequently than mutation\n",
    "        {\n",
    "            'crossover': 2,\n",
    "            'mutation': 1\n",
    "        }\n",
    "'''\n",
    "genetic_operators_frequency = {\n",
    "    'crossover': 1,\n",
    "    'randomize': 1,\n",
    "    'mutation': 1,\n",
    "    'insert_node': 1,\n",
    "    'delete_node': 1,\n",
    "    'mutate_leaf': 1,\n",
    "    'mutate_operator': 1,\n",
    "    'recalibrate': 1\n",
    "}"
   ]
  },
  {
   "cell_type": "markdown",
   "metadata": {},
   "source": [
    "Here we define a population size of 100 individuals, the training process to be 20 generations long and the tournament size for the genetic operations to be 3.\n",
    "\n",
    "Setting the checkpoint file allows us to progressively save the population to recover the training in future training sessions or to share the population with other participants."
   ]
  },
  {
   "cell_type": "code",
   "execution_count": 8,
   "metadata": {},
   "outputs": [],
   "source": [
    "POPULATION_SIZE = 200\n",
    "GENERATIONS = 20\n",
    "TOURNAMENT_SIZE = 3\n",
    "\n",
    "logging.info(f'Running with POPULATION_SIZE {POPULATION_SIZE}')\n",
    "logging.info(f'Running with GENERATIONS {GENERATIONS}')\n",
    "logging.info(f'Running with TOURNAMENT_SIZE {TOURNAMENT_SIZE}')\n",
    "\n",
    "\n",
    "sr = SymbolicRegressor(\n",
    "    checkpoint_file='./banknotes_checkpoint.save',\n",
    "    checkpoint_frequency=10,\n",
    "    const_range=const_range,\n",
    "    parsimony=.8,\n",
    "    parsimony_decay=.85,  # Expected depth = parsimony / (1-parsimony_decay)\n",
    "    population_size=POPULATION_SIZE,\n",
    "    tournament_size=TOURNAMENT_SIZE\n",
    ")"
   ]
  },
  {
   "cell_type": "code",
   "execution_count": null,
   "metadata": {
    "tags": []
   },
   "outputs": [],
   "source": [
    "sr.fit(\n",
    "    data=data,\n",
    "    features=features,\n",
    "    fitness_functions=multi_obj,\n",
    "    generations=GENERATIONS,\n",
    "    genetic_operators_frequency=genetic_operators_frequency,\n",
    "    operations=operations,\n",
    "    n_jobs=-1,\n",
    "    stop_at_convergence=False,\n",
    "    verbose=1\n",
    ")\n",
    "\n",
    "print('End')"
   ]
  },
  {
   "cell_type": "code",
   "execution_count": null,
   "metadata": {},
   "outputs": [],
   "source": []
  }
 ],
 "metadata": {
  "kernelspec": {
   "display_name": "Python 3",
   "language": "python",
   "name": "python3"
  },
  "language_info": {
   "codemirror_mode": {
    "name": "ipython",
    "version": 3
   },
   "file_extension": ".py",
   "mimetype": "text/x-python",
   "name": "python",
   "nbconvert_exporter": "python",
   "pygments_lexer": "ipython3",
   "version": "3.8.10"
  }
 },
 "nbformat": 4,
 "nbformat_minor": 4
}
