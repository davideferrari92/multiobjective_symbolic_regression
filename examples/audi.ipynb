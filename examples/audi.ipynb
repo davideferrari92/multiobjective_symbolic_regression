{
 "cells": [
  {
   "cell_type": "code",
   "execution_count": null,
   "metadata": {},
   "outputs": [],
   "source": [
    "import logging\n",
    "import sys\n",
    "import pandas as pd\n",
    "\n",
    "# to include the SR code without installing in the environment\n",
    "sys.path.append('../')\n",
    "\n",
    "from symbolic_regression.SymbolicRegressor import SymbolicRegressor"
   ]
  },
  {
   "cell_type": "markdown",
   "metadata": {},
   "source": [
    "# The operations\n",
    "\n",
    "Here we define the list of allowed operations. In this project we implemented most of the arithmetic operations we expect to need in a normal use. Please have a look at the file in `symbolic_regression/operators.py` to see how we define them and to define your own operators."
   ]
  },
  {
   "cell_type": "code",
   "execution_count": null,
   "metadata": {},
   "outputs": [],
   "source": [
    "from symbolic_regression.operators import *\n",
    "\n",
    "operations = [\n",
    "    OPERATOR_ADD,\n",
    "    OPERATOR_SUB,\n",
    "    OPERATOR_MUL,\n",
    "    OPERATOR_DIV,\n",
    "    # OPERATOR_ABS,\n",
    "    # OPERATOR_MOD,\n",
    "    # OPERATOR_NEG,\n",
    "    # OPERATOR_INV,\n",
    "    OPERATOR_LOG,\n",
    "    OPERATOR_EXP,\n",
    "    OPERATOR_POW,\n",
    "    OPERATOR_SQRT,\n",
    "    OPERATOR_MAX,\n",
    "    OPERATOR_MIN\n",
    "]\n"
   ]
  },
  {
   "attachments": {},
   "cell_type": "markdown",
   "metadata": {},
   "source": [
    "# The example dataset: used cars prices\n",
    "\n",
    "This is a regression task to predict the price of a used car based on its features. The dataset is available on Kaggle: https://www.kaggle.com/datasets/aishwaryamuthukumar/cars-dataset-audi-bmw-ford-hyundai-skoda-vw"
   ]
  },
  {
   "cell_type": "code",
   "execution_count": null,
   "metadata": {},
   "outputs": [],
   "source": [
    "def min_max_normalize(df):\n",
    "    result = df.copy()\n",
    "    for feature_name in df.columns:\n",
    "        max_value = df[feature_name].max()\n",
    "        min_value = df[feature_name].min()\n",
    "        result[feature_name] = (\n",
    "            df[feature_name] - min_value) / (max_value - min_value)\n",
    "    return result\n",
    "\n",
    "\n",
    "def std_normalize(df):\n",
    "    result = df.copy()\n",
    "    for feature_name in df.columns:\n",
    "        mean_val = df[feature_name].mean()\n",
    "        std_val = df[feature_name].std()\n",
    "        result[feature_name] = (df[feature_name] - mean_val) / std_val\n",
    "    return result\n"
   ]
  },
  {
   "cell_type": "code",
   "execution_count": null,
   "metadata": {},
   "outputs": [],
   "source": [
    "data = pd.read_csv('./audi.csv')"
   ]
  },
  {
   "cell_type": "code",
   "execution_count": null,
   "metadata": {},
   "outputs": [],
   "source": [
    "import re\n",
    "for index, row in data.iterrows():\n",
    "    model = row['model']\n",
    "    serie = \"\".join(re.findall(\"[a-zA-Z]+\", model))\n",
    "    model_number = \"\".join(re.findall(\"[0-9]+\", model))\n",
    "    if model_number == '':\n",
    "        model_number = 1\n",
    "\n",
    "    data.at[index, f'serie_{serie}'] = float(model_number)\n",
    "\n",
    "data = data.fillna(0)\n",
    "data"
   ]
  },
  {
   "cell_type": "code",
   "execution_count": null,
   "metadata": {},
   "outputs": [],
   "source": [
    "features = ['year', 'mileage', 'tax', 'mpg',\n",
    "            'engineSize', 'serie_A', 'serie_Q', 'serie_RS', 'serie_TT', 'serie_S', 'serie_SQ', 'serie_R']\n",
    "to_normalize_std = ['year', 'mileage', 'tax', 'mpg', 'engineSize']\n",
    "to_normalize_min_max = ['serie_A', 'serie_Q', 'serie_RS',\n",
    "                        'serie_TT', 'serie_S', 'serie_SQ', 'serie_R']\n",
    "target = 'price'\n",
    "weights = 'w'\n",
    "\n",
    "data[to_normalize_std+[target]] = std_normalize(data[to_normalize_std+[target]])\n",
    "data[to_normalize_min_max] = min_max_normalize(data[to_normalize_min_max])\n",
    "data['price_bin'] = pd.qcut(data['price'], 10, labels=False).astype('int')\n",
    "\n",
    "bins = 15\n",
    "from symbolic_regression.multiobjective.fitness.DistributionPreserving import get_cumulant_hist\n",
    "from symbolic_regression.multiobjective.fitness.Regression import create_regression_weights\n",
    "\n",
    "F_y=get_cumulant_hist(data=data,target=target,bins=bins)\n",
    "data[weights]=create_regression_weights(data=data,target=target,bins=bins)\n",
    "\n",
    "print(f'Dataset {data.shape}')\n"
   ]
  },
  {
   "cell_type": "code",
   "execution_count": null,
   "metadata": {},
   "outputs": [],
   "source": [
    "from sklearn.model_selection import train_test_split\n",
    "X_train, X_test, y_train, y_test = train_test_split(data[features+[weights]], data[target], test_size=0.2, random_state=42, stratify=data['price_bin'])\n",
    "\n",
    "# Unify features and target in a single dataframe\n",
    "train = pd.concat([X_train, y_train], axis=1)\n",
    "test = pd.concat([X_test, y_test], axis=1)\n",
    "\n",
    "print(f'Train {train.shape}')\n",
    "print(f'Test {test.shape}')\n"
   ]
  },
  {
   "cell_type": "markdown",
   "metadata": {},
   "source": [
    "Here we define the base range for which to generate the constants in the individuals. Furthermore, we also define how to optimize those constants in order to make them converge to the best value they can have in their expression.\n",
    "\n",
    "We are using ADAM with the following configuration parameters."
   ]
  },
  {
   "cell_type": "code",
   "execution_count": null,
   "metadata": {},
   "outputs": [],
   "source": [
    "const_range = (0, 1)\n",
    "\n",
    "constants_optimization = 'ADAM'\n",
    "constants_optimization_conf = {\n",
    "    'task': 'regression:wmse',\n",
    "    'learning_rate': 1e-4,\n",
    "    'batch_size': int(np.ceil(len(data)/10)),\n",
    "    'epochs': 50,\n",
    "    'verbose': 0,\n",
    "    'gradient_clip': False,\n",
    "    'beta_1': 0.9,\n",
    "    'beta_2': 0.999,\n",
    "    'epsilon': 1e-7,\n",
    "    'l1_param': 0,\n",
    "    'l2_param': 0,\n",
    "}\n"
   ]
  },
  {
   "cell_type": "code",
   "execution_count": null,
   "metadata": {},
   "outputs": [],
   "source": [
    "from symbolic_regression.multiobjective.fitness.DistributionPreserving import Wasserstein\n",
    "from symbolic_regression.multiobjective.fitness.Correlation import KendallTauCorrelation\n",
    "from symbolic_regression.multiobjective.fitness.Regression import WeightedMeanSquaredError\n",
    "\n",
    "fitness_functions = [\n",
    "    WeightedMeanSquaredError(label='wmse', target=target, convergence_threshold=0.02,\n",
    "                             weights=weights, minimize=True, hypervolume_reference=data[target].abs().max(), \n",
    "                             constants_optimization=constants_optimization, \n",
    "                             constants_optimization_conf=constants_optimization_conf),\n",
    "    KendallTauCorrelation(label='1-kendalltau', target=target,\n",
    "                          one_minus=True, minimize=True, hypervolume_reference=1),\n",
    "    Wasserstein(label='wasserstein', target=target, weights=weights, F_y=F_y,\n",
    "                bins=15, minimize=True, hypervolume_reference=1)\n",
    "]\n",
    "\n",
    "''' Use this to modulate the relative frequency of genetic operations\n",
    "    E.g., crossover is chosen 2 times more frequently than mutation\n",
    "        {\n",
    "            'crossover': 2,\n",
    "            'mutation': 1,\n",
    "            # etc...\n",
    "        }\n",
    "'''\n",
    "genetic_operators_frequency = {\n",
    "    'crossover': 1,\n",
    "    'mutation': 1,\n",
    "    'insert_node': 1,\n",
    "    'delete_node': 1,\n",
    "    'mutate_leaf': 1,\n",
    "    'mutate_operator': 1,\n",
    "    'recalibrate': 1\n",
    "}\n"
   ]
  },
  {
   "cell_type": "code",
   "execution_count": null,
   "metadata": {},
   "outputs": [],
   "source": [
    "from symbolic_regression.callbacks.CallbackSave import MOSRCallbackSaveCheckpoint\n",
    "from symbolic_regression.callbacks.CallbackStatistics import MOSRHistory, MOSRStatisticsComputation\n",
    "\n",
    "file_name = f'./audi'\n",
    "\n",
    "callbacks = [\n",
    "    MOSRCallbackSaveCheckpoint(\n",
    "        checkpoint_file=file_name, checkpoint_frequency=25, checkpoint_overwrite=False),\n",
    "    MOSRStatisticsComputation(),\n",
    "    MOSRHistory(history_fpf_frequency=5),\n",
    "]"
   ]
  },
  {
   "cell_type": "code",
   "execution_count": null,
   "metadata": {},
   "outputs": [],
   "source": [
    "POPULATION_SIZE = 300\n",
    "TOURNAMENT_SIZE = 3\n",
    "\n",
    "logging.info(f'Running with POPULATION_SIZE {POPULATION_SIZE}')\n",
    "logging.info(f'Running with TOURNAMENT_SIZE {TOURNAMENT_SIZE}')\n",
    "\n",
    "\n",
    "sr = SymbolicRegressor(\n",
    "    client_name='client',\n",
    "    const_range=const_range,\n",
    "    parsimony=.8,\n",
    "    parsimony_decay=.85,  # Expected depth = parsimony / (1-parsimony_decay)\n",
    "    population_size=POPULATION_SIZE,\n",
    "    tournament_size=TOURNAMENT_SIZE,\n",
    "    genetic_operators_frequency=genetic_operators_frequency,\n",
    ")\n"
   ]
  },
  {
   "cell_type": "code",
   "execution_count": null,
   "metadata": {
    "tags": []
   },
   "outputs": [],
   "source": [
    "GENERATIONS = 100\n",
    "\n",
    "sr.fit(\n",
    "    data=data,\n",
    "    features=features,\n",
    "    operations=operations,\n",
    "    fitness_functions=fitness_functions,\n",
    "    generations_to_train=GENERATIONS,\n",
    "    n_jobs=-1,\n",
    "    stop_at_convergence=False,\n",
    "    verbose=3  # The output could be very verbose. Consider using 0, 1, or 2 to reduce the verbosity\n",
    ")\n",
    "\n",
    "print('End')\n"
   ]
  },
  {
   "cell_type": "markdown",
   "metadata": {},
   "source": [
    "### How to access the models and use them\n",
    "\n",
    "You can access the models from ```sr.population: List``` or from ```sr.first_pareto_front: List```. The first one contains all the models generated during the evolution process, while the second one contains only the models that are in the Pareto front.\n",
    "\n",
    "E.g., \n",
    "```python\n",
    "model = sr.population[0]  # OR model = sr.first_pareto_front[0]\n",
    "```\n",
    "\n",
    "To see the model expression, use\n",
    "```python\n",
    ">>> str(model.program)  # It is only the string representation\n",
    "```\n",
    "\n",
    "Some relevant attributes of the model are\n",
    "```python\n",
    ">>> model.features_used\n",
    ">>> model.fitness\n",
    ">>> model.fitness_validation\n",
    "```\n",
    "\n",
    "To evaluate the model, use\n",
    "```python\n",
    ">>> model.evaluate(data)  # data should be a Dict, pd.Series or pd.DataFrame\n",
    "```"
   ]
  },
  {
   "cell_type": "code",
   "execution_count": null,
   "metadata": {},
   "outputs": [],
   "source": [
    "model = sr.population[0]\n",
    "\n",
    "str(model.program)"
   ]
  },
  {
   "cell_type": "code",
   "execution_count": null,
   "metadata": {},
   "outputs": [],
   "source": [
    "print(f\"\\nModel complexity:\\n\\t{model.complexity}\")\n",
    "print(f\"\\nModel fitness:\\n\\t{model.fitness}\")\n",
    "print(f\"\\nModel fitness_validation:\\n\\t{model.fitness_validation}\")  # Is empty if no validation set is provided"
   ]
  },
  {
   "cell_type": "code",
   "execution_count": null,
   "metadata": {},
   "outputs": [],
   "source": [
    "model.evaluate(data=train[features])"
   ]
  }
 ],
 "metadata": {
  "kernelspec": {
   "display_name": "Python 3",
   "language": "python",
   "name": "python3"
  },
  "language_info": {
   "codemirror_mode": {
    "name": "ipython",
    "version": 3
   },
   "file_extension": ".py",
   "mimetype": "text/x-python",
   "name": "python",
   "nbconvert_exporter": "python",
   "pygments_lexer": "ipython3",
   "version": "3.10.12"
  },
  "vscode": {
   "interpreter": {
    "hash": "e7370f93d1d0cde622a1f8e1c04877d8463912d04d973331ad4851f04de6915a"
   }
  }
 },
 "nbformat": 4,
 "nbformat_minor": 4
}
